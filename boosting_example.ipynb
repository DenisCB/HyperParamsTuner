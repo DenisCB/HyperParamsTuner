{
 "cells": [
  {
   "cell_type": "code",
   "execution_count": 1,
   "metadata": {
    "collapsed": false
   },
   "outputs": [
    {
     "name": "stdout",
     "output_type": "stream",
     "text": [
      "Populating the interactive namespace from numpy and matplotlib\n"
     ]
    }
   ],
   "source": [
    "import pandas as pd\n",
    "import numpy as np\n",
    "from sklearn.datasets import make_regression, make_classification\n",
    "from sklearn.model_selection import train_test_split\n",
    "from sklearn.preprocessing import StandardScaler\n",
    "from hyperopt import hp\n",
    "\n",
    "%pylab inline\n",
    "%load_ext autoreload\n",
    "%autoreload 2"
   ]
  },
  {
   "cell_type": "markdown",
   "metadata": {
    "collapsed": false
   },
   "source": [
    "# XGB regression tuning"
   ]
  },
  {
   "cell_type": "code",
   "execution_count": 2,
   "metadata": {
    "collapsed": false
   },
   "outputs": [],
   "source": [
    "data, y = make_regression(\n",
    "    n_samples=1000, n_features=10, n_informative=5, noise=20)\n",
    "data = pd.DataFrame(data=data, columns=['f'+str(i+1) for i in range(data.shape[1])])\n",
    "# Make data positive, add some non-linearity and 5% of outliers.\n",
    "y = (y + abs(y.min())) ** 2\n",
    "y[np.random.choice(range(len(y)), int(len(y)*0.05))] += y.max()\n",
    "y /= 1000\n",
    "\n",
    "features = [c for c in data.columns]\n",
    "train, test, ytrain, ytest = train_test_split(data[features], y, test_size=0.25)\n",
    "\n",
    "scaler = StandardScaler()\n",
    "train = pd.DataFrame(data=scaler.fit_transform(train),  columns=features)\n",
    "test  = pd.DataFrame(data=scaler.transform(test),  columns=features)"
   ]
  },
  {
   "cell_type": "code",
   "execution_count": 3,
   "metadata": {
    "collapsed": false
   },
   "outputs": [],
   "source": [
    "# Define parameters space for hyperopt to search.\n",
    "base_params = {\n",
    "    'objective': 'reg:linear',\n",
    "    'eval_metric': 'rmse', \n",
    "    'booster': 'gbtree',\n",
    "    'tree_method':'hist',\n",
    "    'learning_rate': 0.05\n",
    "}\n",
    "\n",
    "tunable_params = {\n",
    "    'max_depth'         :hp.quniform('max_depth',   2, 12, 1),\n",
    "\n",
    "    'colsample_bytree'  :hp.uniform ('colsample_bytree', 0.5, 1),\n",
    "    'colsample_bylevel' :hp.uniform ('colsample_bylevel',0.5, 1),\n",
    "    \n",
    "    'max_bin'           :hp.loguniform('max_bin', log(2), log(500)),\n",
    "    'min_child_weight'  :hp.loguniform('min_child_weight', log(1e-3), log(len(train)/10)),\n",
    "    'gamma'             :hp.loguniform('gamma',  log(1e-3), log(30)),\n",
    "    'alpha'             :hp.loguniform('alpha',  log(1e-3), log(30)),\n",
    "    'lambda'            :hp.loguniform('lambda', log(1e-3), log(30))\n",
    "}\n",
    "# Hyperopt returns params in float form, which is\n",
    "# unacceptable for some parameters of model.\n",
    "# integer_params will be transformed to ints.\n",
    "integer_params = ['max_depth', 'max_bin']"
   ]
  },
  {
   "cell_type": "code",
   "execution_count": 4,
   "metadata": {
    "collapsed": true
   },
   "outputs": [],
   "source": [
    "from tuner import Tuner\n",
    "T = Tuner(\n",
    "    train=train, ytrain=ytrain,\n",
    "    model='xgb', maximize=False,\n",
    "    base_params=base_params,\n",
    "    tunable_params=tunable_params,\n",
    "    integer_params=integer_params,\n",
    "    n_splits=3, stratify=False, split_seed=0 \n",
    ")"
   ]
  },
  {
   "cell_type": "code",
   "execution_count": 5,
   "metadata": {
    "collapsed": false
   },
   "outputs": [
    {
     "name": "stdout",
     "output_type": "stream",
     "text": [
      "Started 1 epoch of tuning\n",
      "Default parameters score for current folds: 155.7015\n",
      "50 trials are done in 4.9 minutes. Best metric achieved is 150.7192\n",
      "\n",
      "Started 2 epoch of tuning\n",
      "Default parameters score for current folds: 166.9477\n",
      "15 trials are done in 0.3 minutes. Best metric achieved is 152.1037\n",
      "\n",
      "Started 3 epoch of tuning\n",
      "Default parameters score for current folds: 160.9265\n",
      "5 trials are done in 0.1 minutes. Best metric achieved is 149.709\n",
      "\n"
     ]
    },
    {
     "data": {
      "image/png": "[encoded data removed]",
      "text/plain": [
       "<matplotlib.figure.Figure at 0x10e6e4b70>"
      ]
     },
     "metadata": {},
     "output_type": "display_data"
    },
    {
     "data": {
      "text/html": [
       "<div>\n",
       "<style scoped>\n",
       "    .dataframe tbody tr th:only-of-type {\n",
       "        vertical-align: middle;\n",
       "    }\n",
       "\n",
       "    .dataframe tbody tr th {\n",
       "        vertical-align: top;\n",
       "    }\n",
       "\n",
       "    .dataframe thead th {\n",
       "        text-align: right;\n",
       "    }\n",
       "</style>\n",
       "<table border=\"1\" class=\"dataframe\">\n",
       "  <thead>\n",
       "    <tr style=\"text-align: right;\">\n",
       "      <th></th>\n",
       "      <th>params</th>\n",
       "      <th>num_iters</th>\n",
       "      <th>checks</th>\n",
       "      <th>total_loss</th>\n",
       "      <th>1_epoch_loss</th>\n",
       "      <th>2_epoch_loss</th>\n",
       "      <th>3_epoch_loss</th>\n",
       "    </tr>\n",
       "  </thead>\n",
       "  <tbody>\n",
       "    <tr>\n",
       "      <th>0</th>\n",
       "      <td>{'gamma': 13.29605083326353, 'eval_metric': 'r...</td>\n",
       "      <td>191</td>\n",
       "      <td>3</td>\n",
       "      <td>452.531993</td>\n",
       "      <td>150.719249</td>\n",
       "      <td>152.103699</td>\n",
       "      <td>149.709045</td>\n",
       "    </tr>\n",
       "    <tr>\n",
       "      <th>1</th>\n",
       "      <td>{'gamma': 19.854244604819474, 'eval_metric': '...</td>\n",
       "      <td>157</td>\n",
       "      <td>3</td>\n",
       "      <td>454.152969</td>\n",
       "      <td>151.412664</td>\n",
       "      <td>152.866658</td>\n",
       "      <td>149.873647</td>\n",
       "    </tr>\n",
       "    <tr>\n",
       "      <th>2</th>\n",
       "      <td>{'gamma': 26.590269014438505, 'eval_metric': '...</td>\n",
       "      <td>147</td>\n",
       "      <td>3</td>\n",
       "      <td>454.572870</td>\n",
       "      <td>151.269023</td>\n",
       "      <td>153.362594</td>\n",
       "      <td>149.941253</td>\n",
       "    </tr>\n",
       "    <tr>\n",
       "      <th>3</th>\n",
       "      <td>{'gamma': 16.766378338052316, 'eval_metric': '...</td>\n",
       "      <td>134</td>\n",
       "      <td>3</td>\n",
       "      <td>455.668635</td>\n",
       "      <td>150.941157</td>\n",
       "      <td>154.085851</td>\n",
       "      <td>150.641627</td>\n",
       "    </tr>\n",
       "    <tr>\n",
       "      <th>4</th>\n",
       "      <td>{'gamma': 13.68480717990419, 'eval_metric': 'r...</td>\n",
       "      <td>114</td>\n",
       "      <td>3</td>\n",
       "      <td>456.834396</td>\n",
       "      <td>151.037069</td>\n",
       "      <td>154.035624</td>\n",
       "      <td>151.761704</td>\n",
       "    </tr>\n",
       "  </tbody>\n",
       "</table>\n",
       "</div>"
      ],
      "text/plain": [
       "                                              params  num_iters  checks  \\\n",
       "0  {'gamma': 13.29605083326353, 'eval_metric': 'r...        191       3   \n",
       "1  {'gamma': 19.854244604819474, 'eval_metric': '...        157       3   \n",
       "2  {'gamma': 26.590269014438505, 'eval_metric': '...        147       3   \n",
       "3  {'gamma': 16.766378338052316, 'eval_metric': '...        134       3   \n",
       "4  {'gamma': 13.68480717990419, 'eval_metric': 'r...        114       3   \n",
       "\n",
       "   total_loss  1_epoch_loss  2_epoch_loss  3_epoch_loss  \n",
       "0  452.531993    150.719249    152.103699    149.709045  \n",
       "1  454.152969    151.412664    152.866658    149.873647  \n",
       "2  454.572870    151.269023    153.362594    149.941253  \n",
       "3  455.668635    150.941157    154.085851    150.641627  \n",
       "4  456.834396    151.037069    154.035624    151.761704  "
      ]
     },
     "execution_count": 5,
     "metadata": {},
     "output_type": "execute_result"
    }
   ],
   "source": [
    "T.tune(trials_to_to=[50, 15, 5])\n",
    "T.plot_1_epoch_results()\n",
    "T.results.head()"
   ]
  },
  {
   "cell_type": "code",
   "execution_count": 6,
   "metadata": {
    "collapsed": false
   },
   "outputs": [
    {
     "name": "stdout",
     "output_type": "stream",
     "text": [
      "Best model after first epoch on test: 31397.086014\n",
      "Best model after all epochs on test: 31397.086014\n",
      "\n",
      "Best parameters:\n",
      "{'gamma': 13.29605083326353, 'eval_metric': 'rmse', 'objective': 'reg:linear', 'alpha': 0.054060583031301485, 'max_depth': 2, 'max_bin': 13, 'booster': 'gbtree', 'min_child_weight': 0.0010179367081882226, 'learning_rate': 0.05, 'tree_method': 'hist', 'colsample_bytree': 0.5455501384423267, 'lambda': 14.198764991079345, 'colsample_bylevel': 0.6427698270371859}\n",
      "\n",
      "Number of trees for these parameters: 191\n"
     ]
    }
   ],
   "source": [
    "import xgboost as xgb\n",
    "from sklearn.metrics import mean_squared_error\n",
    "\n",
    "model = xgb.train(\n",
    "    T.results.sort_values('1_epoch_loss').iloc[0].params,\n",
    "    xgb.DMatrix(train, ytrain),\n",
    "    num_boost_round=T.results.sort_values('1_epoch_loss').iloc[0].num_iters)\n",
    "print('Best model after first epoch on test:',\n",
    "      mean_squared_error(ytest, model.predict(xgb.DMatrix(test))))\n",
    "\n",
    "model = xgb.train(\n",
    "    T.results.iloc[0].params,\n",
    "    xgb.DMatrix(train, ytrain),\n",
    "    num_boost_round=T.results.iloc[0].num_iters)\n",
    "print('Best model after all epochs on test:',\n",
    "      mean_squared_error(ytest, model.predict(xgb.DMatrix(test))))\n",
    "\n",
    "print('\\nBest parameters:')\n",
    "print(T.results.iloc[0].params)\n",
    "print('\\nNumber of trees for these parameters:', T.results.iloc[0].num_iters)"
   ]
  },
  {
   "cell_type": "markdown",
   "metadata": {},
   "source": [
    "# LGB multiclass classification tuning"
   ]
  },
  {
   "cell_type": "code",
   "execution_count": 7,
   "metadata": {
    "collapsed": false
   },
   "outputs": [],
   "source": [
    "data, y = make_classification(\n",
    "    n_classes=5, n_samples=5000, n_features=10, n_informative=5, n_redundant=2, flip_y=0.05)\n",
    "data = pd.DataFrame(data=data, columns=['f'+str(i+1) for i in range(data.shape[1])])\n",
    "\n",
    "features = list(data.columns)\n",
    "train, test, ytrain, ytest = train_test_split(data, y, test_size=0.25)\n",
    "\n",
    "scaler = StandardScaler()\n",
    "train = pd.DataFrame(data=scaler.fit_transform(train),  columns=features)\n",
    "test  = pd.DataFrame(data=scaler.transform(test),  columns=features)"
   ]
  },
  {
   "cell_type": "code",
   "execution_count": 8,
   "metadata": {
    "collapsed": false
   },
   "outputs": [],
   "source": [
    "# Define parameters space for hyperopt to search \n",
    "base_params = {\n",
    "    'metric': 'multi_logloss',\n",
    "    'objective': 'multiclass',\n",
    "    'learning_rate' : 0.05,\n",
    "    'num_class': len(np.unique(y))\n",
    "}\n",
    "\n",
    "tunable_params = {\n",
    "    'num_leaves'        :hp.loguniform('num_leaves',  log(2), log(2**12)),\n",
    "    'max_bin'           :hp.loguniform('max_bin', log(2), log(500)),\n",
    "    #'scale_pos_weight'  :hp.uniform ('scale_pos_weight', 1, 20),\n",
    "    \n",
    "    'min_data_in_leaf'  :hp.loguniform('min_data_in_leaf', log(1e-3), log(len(train)/10)),\n",
    "    'min_split_gain'    :hp.loguniform('min_split_gain',  log(1e-3), log(len(train)/10)),\n",
    "    'lambda_l2'         :hp.loguniform('lambda_l2',  log(1e-3), log(10)),\n",
    "    'lambda_l1'         :hp.loguniform('lambda_l1', log(1e-3), log(10)),\n",
    "    \n",
    "    'feature_fraction'  :hp.uniform ('feature_fraction', 0.5, 1),\n",
    "    'bagging_fraction'  :hp.uniform ('bagging_fraction', 0.5, 1),\n",
    "    'bagging_freq'      :hp.uniform('bagging_freq', 0, 10)\n",
    "}\n",
    "\n",
    "# Hyperopt returns params in float form, which is\n",
    "# unacceptable for some parameters of model.\n",
    "# integer_params will be transformed to ints.\n",
    "integer_params = ['max_depth', 'max_bin', 'num_leaves', 'min_data_in_leaf', 'bagging_freq']"
   ]
  },
  {
   "cell_type": "code",
   "execution_count": 9,
   "metadata": {
    "collapsed": false
   },
   "outputs": [],
   "source": [
    "from tuner import Tuner\n",
    "T = Tuner(\n",
    "    train=train, ytrain=ytrain,\n",
    "    model='lgb', maximize=False,\n",
    "    base_params=base_params,\n",
    "    tunable_params=tunable_params,\n",
    "    integer_params=integer_params,\n",
    "    n_splits=3, split_seed=0, stratify=True\n",
    ")"
   ]
  },
  {
   "cell_type": "code",
   "execution_count": 10,
   "metadata": {
    "collapsed": false
   },
   "outputs": [
    {
     "name": "stdout",
     "output_type": "stream",
     "text": [
      "Started 1 epoch of tuning\n",
      "Default parameters score for current folds: 0.7655\n",
      "50 trials are done in 25.7 minutes. Best metric achieved is 0.7361\n",
      "\n",
      "Started 2 epoch of tuning\n",
      "Default parameters score for current folds: 0.7701\n",
      "15 trials are done in 13.3 minutes. Best metric achieved is 0.7403\n",
      "\n",
      "Started 3 epoch of tuning\n",
      "Default parameters score for current folds: 0.7621\n",
      "5 trials are done in 4.9 minutes. Best metric achieved is 0.7423\n",
      "\n"
     ]
    },
    {
     "data": {
      "image/png": "[encoded data removed]",
      "text/plain": [
       "<matplotlib.figure.Figure at 0x10f460f28>"
      ]
     },
     "metadata": {},
     "output_type": "display_data"
    },
    {
     "data": {
      "text/html": [
       "<div>\n",
       "<style scoped>\n",
       "    .dataframe tbody tr th:only-of-type {\n",
       "        vertical-align: middle;\n",
       "    }\n",
       "\n",
       "    .dataframe tbody tr th {\n",
       "        vertical-align: top;\n",
       "    }\n",
       "\n",
       "    .dataframe thead th {\n",
       "        text-align: right;\n",
       "    }\n",
       "</style>\n",
       "<table border=\"1\" class=\"dataframe\">\n",
       "  <thead>\n",
       "    <tr style=\"text-align: right;\">\n",
       "      <th></th>\n",
       "      <th>params</th>\n",
       "      <th>num_iters</th>\n",
       "      <th>checks</th>\n",
       "      <th>total_loss</th>\n",
       "      <th>1_epoch_loss</th>\n",
       "      <th>2_epoch_loss</th>\n",
       "      <th>3_epoch_loss</th>\n",
       "    </tr>\n",
       "  </thead>\n",
       "  <tbody>\n",
       "    <tr>\n",
       "      <th>0</th>\n",
       "      <td>{'metric': 'multi_logloss', 'min_data_in_leaf'...</td>\n",
       "      <td>177</td>\n",
       "      <td>3</td>\n",
       "      <td>2.220537</td>\n",
       "      <td>0.737889</td>\n",
       "      <td>0.740323</td>\n",
       "      <td>0.742325</td>\n",
       "    </tr>\n",
       "    <tr>\n",
       "      <th>1</th>\n",
       "      <td>{'metric': 'multi_logloss', 'min_data_in_leaf'...</td>\n",
       "      <td>133</td>\n",
       "      <td>3</td>\n",
       "      <td>2.226747</td>\n",
       "      <td>0.736060</td>\n",
       "      <td>0.741361</td>\n",
       "      <td>0.749326</td>\n",
       "    </tr>\n",
       "    <tr>\n",
       "      <th>2</th>\n",
       "      <td>{'metric': 'multi_logloss', 'min_data_in_leaf'...</td>\n",
       "      <td>158</td>\n",
       "      <td>3</td>\n",
       "      <td>2.227923</td>\n",
       "      <td>0.736925</td>\n",
       "      <td>0.744172</td>\n",
       "      <td>0.746826</td>\n",
       "    </tr>\n",
       "    <tr>\n",
       "      <th>3</th>\n",
       "      <td>{'metric': 'multi_logloss', 'min_data_in_leaf'...</td>\n",
       "      <td>143</td>\n",
       "      <td>3</td>\n",
       "      <td>2.235699</td>\n",
       "      <td>0.737659</td>\n",
       "      <td>0.745932</td>\n",
       "      <td>0.752108</td>\n",
       "    </tr>\n",
       "    <tr>\n",
       "      <th>4</th>\n",
       "      <td>{'metric': 'multi_logloss', 'min_data_in_leaf'...</td>\n",
       "      <td>131</td>\n",
       "      <td>3</td>\n",
       "      <td>2.236337</td>\n",
       "      <td>0.739990</td>\n",
       "      <td>0.745975</td>\n",
       "      <td>0.750372</td>\n",
       "    </tr>\n",
       "  </tbody>\n",
       "</table>\n",
       "</div>"
      ],
      "text/plain": [
       "                                              params  num_iters  checks  \\\n",
       "0  {'metric': 'multi_logloss', 'min_data_in_leaf'...        177       3   \n",
       "1  {'metric': 'multi_logloss', 'min_data_in_leaf'...        133       3   \n",
       "2  {'metric': 'multi_logloss', 'min_data_in_leaf'...        158       3   \n",
       "3  {'metric': 'multi_logloss', 'min_data_in_leaf'...        143       3   \n",
       "4  {'metric': 'multi_logloss', 'min_data_in_leaf'...        131       3   \n",
       "\n",
       "   total_loss  1_epoch_loss  2_epoch_loss  3_epoch_loss  \n",
       "0    2.220537      0.737889      0.740323      0.742325  \n",
       "1    2.226747      0.736060      0.741361      0.749326  \n",
       "2    2.227923      0.736925      0.744172      0.746826  \n",
       "3    2.235699      0.737659      0.745932      0.752108  \n",
       "4    2.236337      0.739990      0.745975      0.750372  "
      ]
     },
     "execution_count": 10,
     "metadata": {},
     "output_type": "execute_result"
    }
   ],
   "source": [
    "T.tune(trials_to_to=[50, 15, 5])\n",
    "T.plot_1_epoch_results()\n",
    "T.results.head()"
   ]
  },
  {
   "cell_type": "code",
   "execution_count": 11,
   "metadata": {
    "collapsed": false
   },
   "outputs": [
    {
     "name": "stdout",
     "output_type": "stream",
     "text": [
      "Best model after first epoch on test: 0.70702609881\n",
      "Best model after all epochs on test: 0.690246686964\n",
      "\n",
      "Best parameters:\n",
      "{'metric': 'multi_logloss', 'min_data_in_leaf': 0, 'verbose': 1, 'lambda_l1': 0.21028753805090483, 'objective': 'multiclass', 'feature_fraction': 0.8029208699445234, 'max_bin': 255, 'bagging_freq': 2, 'min_split_gain': 0.005651767160809951, 'lambda_l2': 4.444258922463265, 'num_class': 5, 'num_leaves': 412, 'bagging_fraction': 0.7766794589581006, 'learning_rate': 0.05}\n",
      "\n",
      "Number of trees for these parameters: 177\n"
     ]
    }
   ],
   "source": [
    "import lightgbm as lgb\n",
    "from sklearn.metrics import log_loss\n",
    "\n",
    "model = lgb.train(\n",
    "    T.results.sort_values('1_epoch_loss').iloc[0].params,\n",
    "    lgb.Dataset(train, ytrain),\n",
    "    num_boost_round=T.results.sort_values('1_epoch_loss').iloc[0].num_iters\n",
    ")\n",
    "print('Best model after first epoch on test:', log_loss(ytest, model.predict(test)))\n",
    "\n",
    "model = lgb.train(\n",
    "    T.results.iloc[0].params,\n",
    "    lgb.Dataset(train, ytrain),\n",
    "    num_boost_round=T.results.iloc[0].num_iters\n",
    ")\n",
    "print('Best model after all epochs on test:', log_loss(ytest, model.predict(test)))\n",
    "\n",
    "print('\\nBest parameters:')\n",
    "print(T.results.iloc[0].params)\n",
    "print('\\nNumber of trees for these parameters:', T.results.iloc[0].num_iters)"
   ]
  },
  {
   "cell_type": "code",
   "execution_count": null,
   "metadata": {
    "collapsed": true
   },
   "outputs": [],
   "source": []
  },
  {
   "cell_type": "code",
   "execution_count": null,
   "metadata": {
    "collapsed": true
   },
   "outputs": [],
   "source": []
  }
 ],
 "metadata": {
  "kernelspec": {
   "display_name": "Python 3",
   "language": "python",
   "name": "python3"
  },
  "language_info": {
   "codemirror_mode": {
    "name": "ipython",
    "version": 3
   },
   "file_extension": ".py",
   "mimetype": "text/x-python",
   "name": "python",
   "nbconvert_exporter": "python",
   "pygments_lexer": "ipython3",
   "version": "3.5.2"
  }
 },
 "nbformat": 4,
 "nbformat_minor": 2
}
