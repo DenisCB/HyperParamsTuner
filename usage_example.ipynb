{
 "cells": [
  {
   "cell_type": "code",
   "execution_count": 1,
   "metadata": {
    "collapsed": false
   },
   "outputs": [
    {
     "name": "stdout",
     "output_type": "stream",
     "text": [
      "Populating the interactive namespace from numpy and matplotlib\n"
     ]
    }
   ],
   "source": [
    "import pandas as pd\n",
    "import numpy as np\n",
    "from sklearn.datasets import make_regression\n",
    "from sklearn.model_selection import train_test_split\n",
    "from sklearn.preprocessing import StandardScaler\n",
    "from hyperopt import hp\n",
    "\n",
    "%pylab inline\n",
    "%load_ext autoreload\n",
    "%autoreload 2"
   ]
  },
  {
   "cell_type": "code",
   "execution_count": 2,
   "metadata": {
    "collapsed": false
   },
   "outputs": [],
   "source": [
    "data, y = make_regression(\n",
    "    n_samples=500, n_features=4, n_informative=2, noise=10)\n",
    "data = pd.DataFrame(data=data, columns=['f'+str(i+1) for i in range(data.shape[1])])\n",
    "# adding some non-linearity\n",
    "y = (y + abs(y.min())) ** 2\n",
    "y /= 1000\n",
    "\n",
    "features = [c for c in data.columns]\n",
    "train, test, ytrain, ytest = train_test_split(data[features], y, test_size=0.25)\n",
    "\n",
    "scaler = StandardScaler()\n",
    "train = pd.DataFrame(data=scaler.fit_transform(train),  columns=features)\n",
    "test  = pd.DataFrame(data=scaler.transform(test),  columns=features)"
   ]
  },
  {
   "cell_type": "markdown",
   "metadata": {
    "collapsed": false
   },
   "source": [
    "# XGB tuning"
   ]
  },
  {
   "cell_type": "code",
   "execution_count": 3,
   "metadata": {
    "collapsed": false
   },
   "outputs": [],
   "source": [
    "# Define parameters space for hyperopt to search \n",
    "base_params = {\n",
    "    'objective': 'reg:linear',\n",
    "    'eval_metric': 'rmse', \n",
    "    'booster': 'gbtree',\n",
    "    'tree_method':'hist',\n",
    "    'learning_rate': 0.05\n",
    "}\n",
    "tunable_params = {\n",
    "    'max_depth'         :hp.quniform('max_depth',   2, 12, 1),\n",
    "    'max_bin'           :hp.quniform('max_bin', 20, 351, 20),\n",
    "\n",
    "    'colsample_bytree'  :hp.uniform ('colsample_bytree', 0.5, 1),\n",
    "    'colsample_bylevel' :hp.uniform ('colsample_bylevel',0.5, 1),\n",
    "#     'scale_pos_weight'  :hp.uniform ('scale_pos_weight', 1, 10),\n",
    "\n",
    "    'min_child_weight'  :hp.loguniform('min_child_weight', 0, 5),\n",
    "    'gamma'             :hp.loguniform('gamma',  0, 3),\n",
    "    'alpha'             :hp.loguniform('alpha',  0, 3),\n",
    "    'lambda'            :hp.loguniform('lambda', 0, 3)\n",
    "}\n",
    "# Hyperopt returns params in float form, which is\n",
    "# unacceptable for some parameters of model.\n",
    "# integer_params will be transformed to ints.\n",
    "integer_params = ['max_depth', 'max_bin']"
   ]
  },
  {
   "cell_type": "code",
   "execution_count": 4,
   "metadata": {
    "collapsed": true
   },
   "outputs": [],
   "source": [
    "from tuner import Tuner\n",
    "TT = Tuner(\n",
    "    train=train, ytrain=ytrain,\n",
    "    model='xgb', maximize=False,\n",
    "    base_params=base_params,\n",
    "    tunable_params=tunable_params,\n",
    "    integer_params=integer_params,\n",
    "    n_splits=3, stratify=False, split_seed=0 \n",
    ")"
   ]
  },
  {
   "cell_type": "code",
   "execution_count": 5,
   "metadata": {
    "collapsed": false
   },
   "outputs": [
    {
     "name": "stdout",
     "output_type": "stream",
     "text": [
      "Started 1 epoch of tuning\n",
      "Default parameters score for current folds: 9.2963\n",
      "20 trials are done in 1.1 minutes. Best metric achieved is 8.6828\n",
      "\n",
      "Started 2 epoch of tuning\n",
      "Default parameters score for current folds: 8.6593\n",
      "7 trials are done in 0.5 minutes. Best metric achieved is 7.654\n",
      "\n",
      "Started 3 epoch of tuning\n",
      "Default parameters score for current folds: 9.2911\n",
      "3 trials are done in 0.3 minutes. Best metric achieved is 7.8343\n",
      "\n"
     ]
    }
   ],
   "source": [
    "TT.tune(trials_to_to=[20, 7, 3])"
   ]
  },
  {
   "cell_type": "code",
   "execution_count": 6,
   "metadata": {
    "collapsed": false
   },
   "outputs": [
    {
     "data": {
      "image/png": "[encoded data removed]",
      "text/plain": [
       "<matplotlib.figure.Figure at 0x106a5a898>"
      ]
     },
     "metadata": {},
     "output_type": "display_data"
    }
   ],
   "source": [
    "TT.plot_1_epoch_results()"
   ]
  },
  {
   "cell_type": "code",
   "execution_count": 7,
   "metadata": {
    "collapsed": false,
    "scrolled": true
   },
   "outputs": [
    {
     "data": {
      "text/html": [
       "<div>\n",
       "<style scoped>\n",
       "    .dataframe tbody tr th:only-of-type {\n",
       "        vertical-align: middle;\n",
       "    }\n",
       "\n",
       "    .dataframe tbody tr th {\n",
       "        vertical-align: top;\n",
       "    }\n",
       "\n",
       "    .dataframe thead th {\n",
       "        text-align: right;\n",
       "    }\n",
       "</style>\n",
       "<table border=\"1\" class=\"dataframe\">\n",
       "  <thead>\n",
       "    <tr style=\"text-align: right;\">\n",
       "      <th></th>\n",
       "      <th>params</th>\n",
       "      <th>num_iters</th>\n",
       "      <th>checks</th>\n",
       "      <th>total_loss</th>\n",
       "      <th>1_epoch_loss</th>\n",
       "      <th>2_epoch_loss</th>\n",
       "      <th>3_epoch_loss</th>\n",
       "    </tr>\n",
       "  </thead>\n",
       "  <tbody>\n",
       "    <tr>\n",
       "      <th>0</th>\n",
       "      <td>{'objective': 'reg:linear', 'gamma': 1.4101654...</td>\n",
       "      <td>569</td>\n",
       "      <td>3</td>\n",
       "      <td>24.171047</td>\n",
       "      <td>8.682842</td>\n",
       "      <td>7.653953</td>\n",
       "      <td>7.834252</td>\n",
       "    </tr>\n",
       "    <tr>\n",
       "      <th>1</th>\n",
       "      <td>{'objective': 'reg:linear', 'gamma': 3.2066548...</td>\n",
       "      <td>346</td>\n",
       "      <td>3</td>\n",
       "      <td>25.362177</td>\n",
       "      <td>9.113652</td>\n",
       "      <td>7.992191</td>\n",
       "      <td>8.256333</td>\n",
       "    </tr>\n",
       "    <tr>\n",
       "      <th>2</th>\n",
       "      <td>{'objective': 'reg:linear', 'gamma': 7.6742131...</td>\n",
       "      <td>579</td>\n",
       "      <td>3</td>\n",
       "      <td>26.438900</td>\n",
       "      <td>9.314808</td>\n",
       "      <td>8.477483</td>\n",
       "      <td>8.646609</td>\n",
       "    </tr>\n",
       "    <tr>\n",
       "      <th>3</th>\n",
       "      <td>{'objective': 'reg:linear', 'gamma': 5.3209412...</td>\n",
       "      <td>174</td>\n",
       "      <td>2</td>\n",
       "      <td>17.844000</td>\n",
       "      <td>9.396674</td>\n",
       "      <td>8.447326</td>\n",
       "      <td>0.000000</td>\n",
       "    </tr>\n",
       "    <tr>\n",
       "      <th>4</th>\n",
       "      <td>{'objective': 'reg:linear', 'gamma': 8.7478886...</td>\n",
       "      <td>304</td>\n",
       "      <td>2</td>\n",
       "      <td>17.869230</td>\n",
       "      <td>9.577653</td>\n",
       "      <td>8.291577</td>\n",
       "      <td>0.000000</td>\n",
       "    </tr>\n",
       "    <tr>\n",
       "      <th>5</th>\n",
       "      <td>{'objective': 'reg:linear', 'gamma': 20.002611...</td>\n",
       "      <td>278</td>\n",
       "      <td>2</td>\n",
       "      <td>18.109555</td>\n",
       "      <td>9.442479</td>\n",
       "      <td>8.667076</td>\n",
       "      <td>0.000000</td>\n",
       "    </tr>\n",
       "    <tr>\n",
       "      <th>6</th>\n",
       "      <td>{'objective': 'reg:linear', 'gamma': 9.8492796...</td>\n",
       "      <td>287</td>\n",
       "      <td>2</td>\n",
       "      <td>18.224821</td>\n",
       "      <td>9.327036</td>\n",
       "      <td>8.897786</td>\n",
       "      <td>0.000000</td>\n",
       "    </tr>\n",
       "    <tr>\n",
       "      <th>7</th>\n",
       "      <td>{'objective': 'reg:linear', 'gamma': 2.0652479...</td>\n",
       "      <td>283</td>\n",
       "      <td>1</td>\n",
       "      <td>9.585978</td>\n",
       "      <td>9.585978</td>\n",
       "      <td>0.000000</td>\n",
       "      <td>0.000000</td>\n",
       "    </tr>\n",
       "    <tr>\n",
       "      <th>8</th>\n",
       "      <td>{'objective': 'reg:linear', 'gamma': 3.0619105...</td>\n",
       "      <td>240</td>\n",
       "      <td>1</td>\n",
       "      <td>9.644659</td>\n",
       "      <td>9.644659</td>\n",
       "      <td>0.000000</td>\n",
       "      <td>0.000000</td>\n",
       "    </tr>\n",
       "    <tr>\n",
       "      <th>9</th>\n",
       "      <td>{'objective': 'reg:linear', 'gamma': 2.3281921...</td>\n",
       "      <td>444</td>\n",
       "      <td>1</td>\n",
       "      <td>10.021760</td>\n",
       "      <td>10.021760</td>\n",
       "      <td>0.000000</td>\n",
       "      <td>0.000000</td>\n",
       "    </tr>\n",
       "  </tbody>\n",
       "</table>\n",
       "</div>"
      ],
      "text/plain": [
       "                                              params  num_iters  checks  \\\n",
       "0  {'objective': 'reg:linear', 'gamma': 1.4101654...        569       3   \n",
       "1  {'objective': 'reg:linear', 'gamma': 3.2066548...        346       3   \n",
       "2  {'objective': 'reg:linear', 'gamma': 7.6742131...        579       3   \n",
       "3  {'objective': 'reg:linear', 'gamma': 5.3209412...        174       2   \n",
       "4  {'objective': 'reg:linear', 'gamma': 8.7478886...        304       2   \n",
       "5  {'objective': 'reg:linear', 'gamma': 20.002611...        278       2   \n",
       "6  {'objective': 'reg:linear', 'gamma': 9.8492796...        287       2   \n",
       "7  {'objective': 'reg:linear', 'gamma': 2.0652479...        283       1   \n",
       "8  {'objective': 'reg:linear', 'gamma': 3.0619105...        240       1   \n",
       "9  {'objective': 'reg:linear', 'gamma': 2.3281921...        444       1   \n",
       "\n",
       "   total_loss  1_epoch_loss  2_epoch_loss  3_epoch_loss  \n",
       "0   24.171047      8.682842      7.653953      7.834252  \n",
       "1   25.362177      9.113652      7.992191      8.256333  \n",
       "2   26.438900      9.314808      8.477483      8.646609  \n",
       "3   17.844000      9.396674      8.447326      0.000000  \n",
       "4   17.869230      9.577653      8.291577      0.000000  \n",
       "5   18.109555      9.442479      8.667076      0.000000  \n",
       "6   18.224821      9.327036      8.897786      0.000000  \n",
       "7    9.585978      9.585978      0.000000      0.000000  \n",
       "8    9.644659      9.644659      0.000000      0.000000  \n",
       "9   10.021760     10.021760      0.000000      0.000000  "
      ]
     },
     "execution_count": 7,
     "metadata": {},
     "output_type": "execute_result"
    }
   ],
   "source": [
    "TT.results.head(10)"
   ]
  },
  {
   "cell_type": "code",
   "execution_count": 21,
   "metadata": {
    "collapsed": false
   },
   "outputs": [
    {
     "name": "stdout",
     "output_type": "stream",
     "text": [
      "Best parameters:\n",
      "{'objective': 'reg:linear', 'gamma': 1.4101654884674304, 'tree_method': 'hist', 'alpha': 2.3573632794528985, 'learning_rate': 0.05, 'max_bin': 180, 'booster': 'gbtree', 'min_child_weight': 1.5674221362829732, 'max_depth': 2, 'eval_metric': 'rmse', 'colsample_bylevel': 0.927783349214442, 'lambda': 4.36655877751855, 'colsample_bytree': 0.6108367265641477} \n",
      "\n",
      "Number of trees for parameter set: 569\n"
     ]
    }
   ],
   "source": [
    "best_parameters = TT.results.iloc[0].params\n",
    "iters_number = TT.results.iloc[0].num_iters\n",
    "print('Best parameters:')\n",
    "print(best_parameters, '\\n')\n",
    "print('Number of trees for parameter set:', iters_number)"
   ]
  },
  {
   "cell_type": "code",
   "execution_count": 12,
   "metadata": {
    "collapsed": false
   },
   "outputs": [
    {
     "name": "stdout",
     "output_type": "stream",
     "text": [
      "Best model after first epoch on test: 85.1778307053\n",
      "Best model after all epochs on test: 85.1778307053\n"
     ]
    }
   ],
   "source": [
    "import xgboost as xgb\n",
    "from sklearn.metrics import mean_squared_error\n",
    "\n",
    "model = xgb.train(\n",
    "    TT.results.sort_values('1_epoch_loss').iloc[0].params,\n",
    "    xgb.DMatrix(train, ytrain),\n",
    "    num_boost_round=TT.results.sort_values('1_epoch_loss').iloc[0].num_iters\n",
    ")\n",
    "print('Best model after first epoch on test:',\n",
    "      mean_squared_error(ytest, model.predict(xgb.DMatrix(test))))\n",
    "\n",
    "model = xgb.train(\n",
    "    TT.results.iloc[0].params,\n",
    "    xgb.DMatrix(train, ytrain),\n",
    "    num_boost_round=TT.results.iloc[0].num_iters\n",
    ")\n",
    "print('Best model after all epochs on test:',\n",
    "      mean_squared_error(ytest, model.predict(xgb.DMatrix(test))))"
   ]
  },
  {
   "cell_type": "markdown",
   "metadata": {},
   "source": [
    "# LGB tuning"
   ]
  },
  {
   "cell_type": "code",
   "execution_count": 13,
   "metadata": {
    "collapsed": false
   },
   "outputs": [],
   "source": [
    "# Define parameters space for hyperopt to search \n",
    "base_params = {\n",
    "    'metric': 'mse',\n",
    "    'objective': 'mse',\n",
    "    'learning_rate' : 0.05\n",
    "}\n",
    "\n",
    "tunable_params = {\n",
    "    'num_leaves'        :hp.loguniform('num_leaves',  1.5, 7),\n",
    "    'max_bin'           :hp.quniform('max_bin', 10, 400, 10),\n",
    "    #'scale_pos_weight'  :hp.uniform ('scale_pos_weight', 1, 20),\n",
    "\n",
    "    'feature_fraction'  :hp.uniform ('feature_fraction', 0.5, 1),\n",
    "    'bagging_fraction'  :hp.uniform ('bagging_fraction', 0.5, 1),\n",
    "    'bagging_freq'      :hp.quniform('bagging_freq', 0, 10, 1),\n",
    "\n",
    "    'min_data_in_leaf'  :hp.loguniform('min_data_in_leaf', 1, 7),\n",
    "    'min_split_gain'    :hp.loguniform('min_split_gain',  0, 5),\n",
    "    'lambda_l2'         :hp.loguniform('lambda_l2',  0, 5),\n",
    "    'lambda_l1'         :hp.loguniform('lambda_l1', 0, 5)\n",
    "}\n",
    "\n",
    "# Hyperopt returns params in float form, which is\n",
    "# unacceptable for some parameters of model.\n",
    "# integer_params will be transformed to ints.\n",
    "integer_params = ['max_depth', 'max_bin', 'num_leaves', 'min_data_in_leaf', 'bagging_freq']"
   ]
  },
  {
   "cell_type": "code",
   "execution_count": 14,
   "metadata": {
    "collapsed": false
   },
   "outputs": [],
   "source": [
    "from tuner import Tuner\n",
    "T = Tuner(\n",
    "    train=train, ytrain=ytrain,\n",
    "    model='lgb', maximize=False,\n",
    "    base_params=base_params,\n",
    "    tunable_params=tunable_params,\n",
    "    integer_params=integer_params,\n",
    "    n_splits=3, split_seed=0, stratify=False\n",
    ")"
   ]
  },
  {
   "cell_type": "code",
   "execution_count": 15,
   "metadata": {
    "collapsed": false,
    "scrolled": true
   },
   "outputs": [
    {
     "name": "stdout",
     "output_type": "stream",
     "text": [
      "Started 1 epoch of tuning\n",
      "Default parameters score for current folds: 114.8065\n",
      "75 trials are done in 1.2 minutes. Best metric achieved is 81.1083\n",
      "\n",
      "Started 2 epoch of tuning\n",
      "Default parameters score for current folds: 88.8378\n",
      "25 trials are done in 0.5 minutes. Best metric achieved is 67.5459\n",
      "\n",
      "Started 3 epoch of tuning\n",
      "Default parameters score for current folds: 92.247\n",
      "7 trials are done in 0.1 minutes. Best metric achieved is 67.1392\n",
      "\n"
     ]
    }
   ],
   "source": [
    "T.tune(trials_to_to=[75, 25, 7])"
   ]
  },
  {
   "cell_type": "code",
   "execution_count": 16,
   "metadata": {
    "collapsed": false
   },
   "outputs": [
    {
     "data": {
      "image/png": "[encoded data removed]",
      "text/plain": [
       "<matplotlib.figure.Figure at 0x113a09dd8>"
      ]
     },
     "metadata": {},
     "output_type": "display_data"
    }
   ],
   "source": [
    "T.plot_1_epoch_results()"
   ]
  },
  {
   "cell_type": "code",
   "execution_count": 17,
   "metadata": {
    "collapsed": false
   },
   "outputs": [
    {
     "data": {
      "text/html": [
       "<div>\n",
       "<style scoped>\n",
       "    .dataframe tbody tr th:only-of-type {\n",
       "        vertical-align: middle;\n",
       "    }\n",
       "\n",
       "    .dataframe tbody tr th {\n",
       "        vertical-align: top;\n",
       "    }\n",
       "\n",
       "    .dataframe thead th {\n",
       "        text-align: right;\n",
       "    }\n",
       "</style>\n",
       "<table border=\"1\" class=\"dataframe\">\n",
       "  <thead>\n",
       "    <tr style=\"text-align: right;\">\n",
       "      <th></th>\n",
       "      <th>params</th>\n",
       "      <th>num_iters</th>\n",
       "      <th>checks</th>\n",
       "      <th>total_loss</th>\n",
       "      <th>1_epoch_loss</th>\n",
       "      <th>2_epoch_loss</th>\n",
       "      <th>3_epoch_loss</th>\n",
       "    </tr>\n",
       "  </thead>\n",
       "  <tbody>\n",
       "    <tr>\n",
       "      <th>0</th>\n",
       "      <td>{'num_leaves': 5, 'min_data_in_leaf': 9, 'obje...</td>\n",
       "      <td>211</td>\n",
       "      <td>3</td>\n",
       "      <td>217.522350</td>\n",
       "      <td>82.837312</td>\n",
       "      <td>67.545859</td>\n",
       "      <td>67.139179</td>\n",
       "    </tr>\n",
       "    <tr>\n",
       "      <th>1</th>\n",
       "      <td>{'num_leaves': 4, 'min_data_in_leaf': 4, 'obje...</td>\n",
       "      <td>238</td>\n",
       "      <td>3</td>\n",
       "      <td>224.744764</td>\n",
       "      <td>81.108262</td>\n",
       "      <td>71.774945</td>\n",
       "      <td>71.861556</td>\n",
       "    </tr>\n",
       "    <tr>\n",
       "      <th>2</th>\n",
       "      <td>{'num_leaves': 4, 'min_data_in_leaf': 3, 'obje...</td>\n",
       "      <td>179</td>\n",
       "      <td>3</td>\n",
       "      <td>225.050237</td>\n",
       "      <td>84.488844</td>\n",
       "      <td>68.172782</td>\n",
       "      <td>72.388612</td>\n",
       "    </tr>\n",
       "    <tr>\n",
       "      <th>3</th>\n",
       "      <td>{'num_leaves': 6, 'min_data_in_leaf': 3, 'obje...</td>\n",
       "      <td>275</td>\n",
       "      <td>3</td>\n",
       "      <td>227.324537</td>\n",
       "      <td>84.085150</td>\n",
       "      <td>69.177505</td>\n",
       "      <td>74.061882</td>\n",
       "    </tr>\n",
       "    <tr>\n",
       "      <th>4</th>\n",
       "      <td>{'num_leaves': 7, 'min_data_in_leaf': 4, 'obje...</td>\n",
       "      <td>158</td>\n",
       "      <td>3</td>\n",
       "      <td>233.442460</td>\n",
       "      <td>89.388507</td>\n",
       "      <td>72.365769</td>\n",
       "      <td>71.688184</td>\n",
       "    </tr>\n",
       "    <tr>\n",
       "      <th>5</th>\n",
       "      <td>{'num_leaves': 6, 'min_data_in_leaf': 3, 'obje...</td>\n",
       "      <td>227</td>\n",
       "      <td>3</td>\n",
       "      <td>238.433542</td>\n",
       "      <td>87.610586</td>\n",
       "      <td>72.370052</td>\n",
       "      <td>78.452903</td>\n",
       "    </tr>\n",
       "    <tr>\n",
       "      <th>6</th>\n",
       "      <td>{'num_leaves': 9, 'min_data_in_leaf': 8, 'obje...</td>\n",
       "      <td>202</td>\n",
       "      <td>3</td>\n",
       "      <td>239.897743</td>\n",
       "      <td>87.269883</td>\n",
       "      <td>74.830820</td>\n",
       "      <td>77.797041</td>\n",
       "    </tr>\n",
       "    <tr>\n",
       "      <th>7</th>\n",
       "      <td>{'num_leaves': 787, 'min_data_in_leaf': 8, 'ob...</td>\n",
       "      <td>177</td>\n",
       "      <td>2</td>\n",
       "      <td>163.197647</td>\n",
       "      <td>89.761359</td>\n",
       "      <td>73.436288</td>\n",
       "      <td>0.000000</td>\n",
       "    </tr>\n",
       "    <tr>\n",
       "      <th>8</th>\n",
       "      <td>{'num_leaves': 6, 'min_data_in_leaf': 10, 'obj...</td>\n",
       "      <td>230</td>\n",
       "      <td>2</td>\n",
       "      <td>163.503601</td>\n",
       "      <td>89.267424</td>\n",
       "      <td>74.236178</td>\n",
       "      <td>0.000000</td>\n",
       "    </tr>\n",
       "    <tr>\n",
       "      <th>9</th>\n",
       "      <td>{'num_leaves': 8, 'min_data_in_leaf': 2, 'obje...</td>\n",
       "      <td>166</td>\n",
       "      <td>2</td>\n",
       "      <td>164.500165</td>\n",
       "      <td>88.394112</td>\n",
       "      <td>76.106053</td>\n",
       "      <td>0.000000</td>\n",
       "    </tr>\n",
       "  </tbody>\n",
       "</table>\n",
       "</div>"
      ],
      "text/plain": [
       "                                              params  num_iters  checks  \\\n",
       "0  {'num_leaves': 5, 'min_data_in_leaf': 9, 'obje...        211       3   \n",
       "1  {'num_leaves': 4, 'min_data_in_leaf': 4, 'obje...        238       3   \n",
       "2  {'num_leaves': 4, 'min_data_in_leaf': 3, 'obje...        179       3   \n",
       "3  {'num_leaves': 6, 'min_data_in_leaf': 3, 'obje...        275       3   \n",
       "4  {'num_leaves': 7, 'min_data_in_leaf': 4, 'obje...        158       3   \n",
       "5  {'num_leaves': 6, 'min_data_in_leaf': 3, 'obje...        227       3   \n",
       "6  {'num_leaves': 9, 'min_data_in_leaf': 8, 'obje...        202       3   \n",
       "7  {'num_leaves': 787, 'min_data_in_leaf': 8, 'ob...        177       2   \n",
       "8  {'num_leaves': 6, 'min_data_in_leaf': 10, 'obj...        230       2   \n",
       "9  {'num_leaves': 8, 'min_data_in_leaf': 2, 'obje...        166       2   \n",
       "\n",
       "   total_loss  1_epoch_loss  2_epoch_loss  3_epoch_loss  \n",
       "0  217.522350     82.837312     67.545859     67.139179  \n",
       "1  224.744764     81.108262     71.774945     71.861556  \n",
       "2  225.050237     84.488844     68.172782     72.388612  \n",
       "3  227.324537     84.085150     69.177505     74.061882  \n",
       "4  233.442460     89.388507     72.365769     71.688184  \n",
       "5  238.433542     87.610586     72.370052     78.452903  \n",
       "6  239.897743     87.269883     74.830820     77.797041  \n",
       "7  163.197647     89.761359     73.436288      0.000000  \n",
       "8  163.503601     89.267424     74.236178      0.000000  \n",
       "9  164.500165     88.394112     76.106053      0.000000  "
      ]
     },
     "execution_count": 17,
     "metadata": {},
     "output_type": "execute_result"
    }
   ],
   "source": [
    "T.results.head(10)"
   ]
  },
  {
   "cell_type": "code",
   "execution_count": 20,
   "metadata": {
    "collapsed": false
   },
   "outputs": [
    {
     "name": "stdout",
     "output_type": "stream",
     "text": [
      "Best parameters:\n",
      "{'num_leaves': 5, 'min_data_in_leaf': 9, 'objective': 'mse', 'lambda_l2': 1.0034742455440055, 'lambda_l1': 5.085492576115697, 'max_bin': 255, 'min_split_gain': 9.389942510466074, 'feature_fraction': 0.8479765317644915, 'learning_rate': 0.05, 'metric': 'mse', 'bagging_freq': 2, 'bagging_fraction': 0.6407907430343374, 'verbose': 1} \n",
      "\n",
      "Number of trees for parameter set: 211\n"
     ]
    }
   ],
   "source": [
    "best_parameters = T.results.iloc[0].params\n",
    "iters_number = T.results.iloc[0].num_iters\n",
    "print('Best parameters:')\n",
    "print(best_parameters, '\\n')\n",
    "print('Number of trees for parameter set:', iters_number)"
   ]
  },
  {
   "cell_type": "code",
   "execution_count": 18,
   "metadata": {
    "collapsed": false
   },
   "outputs": [
    {
     "name": "stdout",
     "output_type": "stream",
     "text": [
      "Best model after first epoch on test: 104.023259255\n",
      "Best model after all epochs on test: 98.272942673\n"
     ]
    }
   ],
   "source": [
    "import lightgbm as lgb\n",
    "from sklearn.metrics import mean_squared_error\n",
    "\n",
    "model = lgb.train(\n",
    "    T.results.sort_values('1_epoch_loss').iloc[0].params,\n",
    "    lgb.Dataset(train, ytrain),\n",
    "    num_boost_round=T.results.sort_values('1_epoch_loss').iloc[0].num_iters\n",
    ")\n",
    "print('Best model after first epoch on test:', mean_squared_error(ytest, model.predict(test)))\n",
    "\n",
    "model = lgb.train(\n",
    "    T.results.iloc[0].params,\n",
    "    lgb.Dataset(train, ytrain),\n",
    "    num_boost_round=T.results.iloc[0].num_iters\n",
    ")\n",
    "print('Best model after all epochs on test:', mean_squared_error(ytest, model.predict(test)))"
   ]
  },
  {
   "cell_type": "code",
   "execution_count": null,
   "metadata": {
    "collapsed": false
   },
   "outputs": [],
   "source": []
  }
 ],
 "metadata": {
  "kernelspec": {
   "display_name": "Python 3",
   "language": "python",
   "name": "python3"
  },
  "language_info": {
   "codemirror_mode": {
    "name": "ipython",
    "version": 3
   },
   "file_extension": ".py",
   "mimetype": "text/x-python",
   "name": "python",
   "nbconvert_exporter": "python",
   "pygments_lexer": "ipython3",
   "version": "3.5.2"
  }
 },
 "nbformat": 4,
 "nbformat_minor": 2
}
